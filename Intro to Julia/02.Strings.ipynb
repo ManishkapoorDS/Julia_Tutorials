{
  "cells": [
    {
      "cell_type": "markdown",
      "source": [
        "# Strings\n",
        "\n",
        "Topics:\n",
        "1. How to get a string\n",
        "2. String interpolation\n",
        "3. String concatenation"
      ],
      "metadata": {}
    },
    {
      "cell_type": "markdown",
      "source": [
        "## How to get a string\n",
        "\n",
        "Enclose your characters in \" \" or \"\"\" \"\"\"!"
      ],
      "metadata": {}
    },
    {
      "cell_type": "code",
      "source": [
        "s1 = \"I am a string.\""
      ],
      "outputs": [
        {
          "output_type": "execute_result",
          "execution_count": 2,
          "data": {
            "text/plain": [
              "\"I am a string.\""
            ]
          },
          "metadata": {}
        }
      ],
      "execution_count": 2,
      "metadata": {
        "execution": {
          "iopub.status.busy": "2020-05-07T19:59:47.544Z",
          "iopub.execute_input": "2020-05-07T19:59:47.551Z",
          "iopub.status.idle": "2020-05-07T19:59:47.566Z"
        }
      }
    },
    {
      "cell_type": "code",
      "source": [
        "s2 = \"\"\"I am also a string. \"\"\""
      ],
      "outputs": [
        {
          "output_type": "execute_result",
          "execution_count": 3,
          "data": {
            "text/plain": [
              "\"I am also a string. \""
            ]
          },
          "metadata": {}
        }
      ],
      "execution_count": 3,
      "metadata": {
        "execution": {
          "iopub.status.busy": "2020-05-07T19:59:47.925Z",
          "iopub.execute_input": "2020-05-07T19:59:47.930Z",
          "iopub.status.idle": "2020-05-07T19:59:47.938Z"
        }
      }
    },
    {
      "cell_type": "markdown",
      "source": [
        "There are a couple functional differences between strings enclosed in single and triple quotes. <br>\n",
        "One difference is that, in the latter case, you can use quotation marks within your string."
      ],
      "metadata": {}
    },
    {
      "cell_type": "code",
      "source": [
        "\"Here, we get an \"error\" because it's ambiguous where this string ends \""
      ],
      "outputs": [],
      "execution_count": null,
      "metadata": {}
    },
    {
      "cell_type": "code",
      "source": [
        "\"\"\"Look, Mom, no \"errors\"!!! \"\"\""
      ],
      "outputs": [],
      "execution_count": null,
      "metadata": {}
    },
    {
      "cell_type": "markdown",
      "source": [
        "Note that ' ' define a character, but NOT a string!"
      ],
      "metadata": {}
    },
    {
      "cell_type": "code",
      "source": [
        "typeof('a')"
      ],
      "outputs": [
        {
          "output_type": "execute_result",
          "execution_count": 4,
          "data": {
            "text/plain": [
              "Char"
            ]
          },
          "metadata": {}
        }
      ],
      "execution_count": 4,
      "metadata": {
        "execution": {
          "iopub.status.busy": "2020-05-07T20:00:01.083Z",
          "iopub.execute_input": "2020-05-07T20:00:01.091Z",
          "iopub.status.idle": "2020-05-07T20:00:01.347Z"
        }
      }
    },
    {
      "cell_type": "code",
      "source": [
        "'We will get an error here'"
      ],
      "outputs": [
        {
          "output_type": "error",
          "ename": "LoadError",
          "evalue": "syntax: invalid character literal",
          "traceback": [
            "syntax: invalid character literal",
            ""
          ]
        }
      ],
      "execution_count": 5,
      "metadata": {
        "execution": {
          "iopub.status.busy": "2020-05-07T20:00:03.134Z",
          "iopub.execute_input": "2020-05-07T20:00:03.141Z",
          "iopub.status.idle": "2020-05-07T20:00:03.401Z"
        }
      }
    },
    {
      "cell_type": "markdown",
      "source": [
        "## String interpolation\n",
        "\n",
        "We can use the $ sign to insert existing variables into a string and to evaluate expressions within a string. <br>\n",
        "Below is an example that contains some highly sensitive personal information."
      ],
      "metadata": {}
    },
    {
      "cell_type": "code",
      "source": [
        "name = \"Jane\"\n",
        "num_fingers = 10\n",
        "num_toes = 10"
      ],
      "outputs": [
        {
          "output_type": "execute_result",
          "execution_count": 6,
          "data": {
            "text/plain": [
              "10"
            ]
          },
          "metadata": {}
        }
      ],
      "execution_count": 6,
      "metadata": {
        "execution": {
          "iopub.status.busy": "2020-05-07T20:00:12.429Z",
          "iopub.execute_input": "2020-05-07T20:00:12.434Z",
          "iopub.status.idle": "2020-05-07T20:00:12.589Z"
        }
      }
    },
    {
      "cell_type": "code",
      "source": [
        "println(\"Hello, my name is $name.\")\n",
        "println(\"I have $num_fingers fingers and $num_toes toes.\")\n",
        " println(\"That is $(num_fingers + num_toes) digits in all!!\")\n",
        "# ## String concatenation"
      ],
      "outputs": [
        {
          "output_type": "stream",
          "name": "stdout",
          "text": [
            "Hello, my name is Jane.\n",
            "I have 10 fingers and 10 toes.\n",
            "That is 20 digits in all!!\n"
          ]
        }
      ],
      "execution_count": 7,
      "metadata": {
        "execution": {
          "iopub.status.busy": "2020-05-07T20:00:29.582Z",
          "iopub.execute_input": "2020-05-07T20:00:29.586Z",
          "iopub.status.idle": "2020-05-07T20:00:29.679Z"
        }
      }
    },
    {
      "cell_type": "code",
      "source": [
        "# Below are three ways we can concatenate strings! <br><br>\n",
        "# The first way is to use the `string()` function. <br>\n",
        "# `string()` converts non-string inputs to strings.\n",
        "s3 = \"How many cats \";\n",
        "s4 = \"is too many cats?\";\n",
        "😺 = 10"
      ],
      "outputs": [
        {
          "output_type": "execute_result",
          "execution_count": 8,
          "data": {
            "text/plain": [
              "10"
            ]
          },
          "metadata": {}
        }
      ],
      "execution_count": 8,
      "metadata": {
        "execution": {
          "iopub.status.busy": "2020-05-07T20:01:01.626Z",
          "iopub.execute_input": "2020-05-07T20:01:01.630Z",
          "iopub.status.idle": "2020-05-07T20:01:01.645Z"
        }
      }
    },
    {
      "cell_type": "code",
      "source": [
        "string(s3, s4)"
      ],
      "outputs": [
        {
          "output_type": "execute_result",
          "execution_count": 9,
          "data": {
            "text/plain": [
              "\"How many cats is too many cats?\""
            ]
          },
          "metadata": {}
        }
      ],
      "execution_count": 9,
      "metadata": {
        "execution": {
          "iopub.status.busy": "2020-05-07T20:01:02.517Z",
          "iopub.execute_input": "2020-05-07T20:01:02.522Z",
          "iopub.status.idle": "2020-05-07T20:01:02.532Z"
        }
      }
    },
    {
      "cell_type": "code",
      "source": [
        "string(\"I don't know, but \", 😺, \" is too few.\")"
      ],
      "outputs": [
        {
          "output_type": "execute_result",
          "execution_count": 10,
          "data": {
            "text/plain": [
              "\"I don't know, but 10 is too few.\""
            ]
          },
          "metadata": {}
        }
      ],
      "execution_count": 10,
      "metadata": {
        "execution": {
          "iopub.status.busy": "2020-05-07T20:01:05.728Z",
          "iopub.execute_input": "2020-05-07T20:01:05.734Z",
          "iopub.status.idle": "2020-05-07T20:01:05.742Z"
        }
      }
    },
    {
      "cell_type": "markdown",
      "source": [
        "We can also use `*` for concatenation!"
      ],
      "metadata": {}
    },
    {
      "cell_type": "code",
      "source": [
        "s3*s4"
      ],
      "outputs": [
        {
          "output_type": "execute_result",
          "execution_count": 11,
          "data": {
            "text/plain": [
              "\"How many cats is too many cats?\""
            ]
          },
          "metadata": {}
        }
      ],
      "execution_count": 11,
      "metadata": {
        "execution": {
          "iopub.status.busy": "2020-05-07T20:01:16.149Z",
          "iopub.execute_input": "2020-05-07T20:01:16.152Z",
          "iopub.status.idle": "2020-05-07T20:01:16.164Z"
        }
      }
    },
    {
      "cell_type": "markdown",
      "source": [
        "### Exercises\n",
        "\n",
        "#### 2.1\n",
        "Create a string that says \"hi\" 1000 times, first with `repeat` and then with the exponentiation operator, which can call `*` under the hood. Assign it the variable `hi` below."
      ],
      "metadata": {}
    },
    {
      "cell_type": "code",
      "source": [
        "hi = \"hi\"^1000"
      ],
      "outputs": [
        {
          "output_type": "execute_result",
          "execution_count": 16,
          "data": {
            "text/plain": [
              "\"hihihihihihihihihihihihihihihihihihihihihihihihihihihihihihihihihihihihihihihihihihihihihihihihihihihihihihihihihihihihihihihihihihihihihihihihihihihihihihihihihihihihihihihihihihihihihihihihihihihihihihihihihihihihihihihihihihihihihihihihihihihihihihihihihihihihihihihihihihihihihihihihihihihihihihihihihihihihihihihihihihihihihihihihihihihihihihihihihihihihihihihihihihihihihihihihihihihihihihihihihihihihihihihihihihihihihihihihihihihihihihihihihihihihihihihihihihihihihihihihihihihihihihihihihihihihihihihihihihihihihihihihihihihihihihihihihihihihihihihihihihihihihihihihihihihihihihihihihihihihihihihihihihihihihihihihihihihihihihihihihihihihihihihihihihihihihihihihihihihihihihihihihihihihihihihihihihihihihihihihihihihihihihihihihihihihihihihihihihihihihihihihihihihihihihihihihihihihihihihihihihihihihihihihihihihihihihihihihihihihihihihihihihihihihihihihihihihihihihihihihihihihihihihihihihihihihihihihihihihihihihihihihihihihihihihihihihihihihihihihihihihihihihihihihihihihihihihihihihihihihihihihihihihihihihihihihihihihihihihihihihihihihihihihihihihihihihihihihihihihihihihihihihihihihihihihihihihihihihihihihihihihihihihihihihihihihihihihihihihihihihihihihihihihihihihihihihihihihihihihihihihihihihihihihihihihihihihihihihihihihihihihihihihihihihihihihihihihihihihihihihihihihihihihihihihihihihihihihihihihihihihihihihihihihihihihihihihihihihihihihihihihihihihihihihihihihihihihihihihihihihihihihihihihihihihihihihihihihihihihihihihihihihihihihihihihihihihihihihihihihihihihihihihihihihihihihihihihihihihihihihihihihihihihihihihihihihihihihihihihihihihihihihihihihihihihihihihihihihihihihihihihihihihihihihihihihihihihihihihihihihihihihihihihihihihihihihihihihihihihihihihihihihihihihihihihihihihihihihihihihihihihihihihihihihihihihihihihihihihihihihihihihihihihihihihihihihihihihihihihihihihihihihihihihihihihihihihihihihihihihihihihihihihihihihihihihihihihihihihihihihihihihihihihihihihihihihihihihihihihihihihihihihihihihihihihihihihihihihihihihihihihihihihihihihihihihihihihihihihihi\""
            ]
          },
          "metadata": {}
        }
      ],
      "execution_count": 16,
      "metadata": {
        "collapsed": true,
        "outputExpanded": false,
        "jupyter": {
          "source_hidden": false,
          "outputs_hidden": false
        },
        "nteract": {
          "transient": {
            "deleting": false
          }
        },
        "execution": {
          "iopub.status.busy": "2020-05-07T20:02:20.374Z",
          "iopub.execute_input": "2020-05-07T20:02:20.379Z",
          "iopub.status.idle": "2020-05-07T20:02:20.387Z"
        }
      }
    },
    {
      "cell_type": "code",
      "source": [
        "@assert hi == \"hihihihihihihihihihihihihihihihihihihihihihihihihihihihihihihihihihihihihihihihihihihihihihihihihihihihihihihihihihihihihihihihihihihihihihihihihihihihihihihihihihihihihihihihihihihihihihihihihihihihihihihihihihihihihihihihihihihihihihihihihihihihihihihihihihihihihihihihihihihihihihihihihihihihihihihihihihihihihihihihihihihihihihihihihihihihihihihihihihihihihihihihihihihihihihihihihihihihihihihihihihihihihihihihihihihihihihihihihihihihihihihihihihihihihihihihihihihihihihihihihihihihihihihihihihihihihihihihihihihihihihihihihihihihihihihihihihihihihihihihihihihihihihihihihihihihihihihihihihihihihihihihihihihihihihihihihihihihihihihihihihihihihihihihihihihihihihihihihihihihihihihihihihihihihihihihihihihihihihihihihihihihihihihihihihihihihihihihihihihihihihihihihihihihihihihihihihihihihihihihihihihihihihihihihihihihihihihihihihihihihihihihihihihihihihihihihihihihihihihihihihihihihihihihihihihihihihihihihihihihihihihihihihihihihihihihihihihihihihihihihihihihihihihihihihihihihihihihihihihihihihihihihihihihihihihihihihihihihihihihihihihihihihihihihihihihihihihihihihihihihihihihihihihihihihihihihihihihihihihihihihihihihihihihihihihihihihihihihihihihihihihihihihihihihihihihihihihihihihihihihihihihihihihihihihihihihihihihihihihihihihihihihihihihihihihihihihihihihihihihihihihihihihihihihihihihihihihihihihihihihihihihihihihihihihihihihihihihihihihihihihihihihihihihihihihihihihihihihihihihihihihihihihihihihihihihihihihihihihihihihihihihihihihihihihihihihihihihihihihihihihihihihihihihihihihihihihihihihihihihihihihihihihihihihihihihihihihihihihihihihihihihihihihihihihihihihihihihihihihihihihihihihihihihihihihihihihihihihihihihihihihihihihihihihihihihihihihihihihihihihihihihihihihihihihihihihihihihihihihihihihihihihihihihihihihihihihihihihihihihihihihihihihihihihihihihihihihihihihihihihihihihihihihihihihihihihihihihihihihihihihihihihihihihihihihihihihihihihihihihihihihihihihihihihihihihihihihihihihihihihihihihihihihihihihihihihihihihihihihihihihihihihihihihihihihihihihihihihihihihi\""
      ],
      "outputs": [],
      "execution_count": 17,
      "metadata": {
        "execution": {
          "iopub.status.busy": "2020-05-07T20:02:21.750Z",
          "iopub.execute_input": "2020-05-07T20:02:21.756Z",
          "iopub.status.idle": "2020-05-07T20:02:21.763Z"
        }
      }
    },
    {
      "cell_type": "markdown",
      "source": [
        "#### 2.2\n",
        "Declare two variables\n",
        "\n",
        "```julia\n",
        "a = 3\n",
        "b = 4\n",
        "```\n",
        "and use them to create two strings:\n",
        "```julia\n",
        "\"3 + 4\"\n",
        "\"7\"\n",
        "```\n",
        "and store the results in `c` and `d` respectively"
      ],
      "metadata": {}
    },
    {
      "cell_type": "code",
      "source": [
        "a = 3\n",
        "b = 4\n",
        "c = \"$a+$b\"\n",
        "d = \"$(a+b)\""
      ],
      "outputs": [
        {
          "output_type": "execute_result",
          "execution_count": 26,
          "data": {
            "text/plain": [
              "\"7\""
            ]
          },
          "metadata": {}
        }
      ],
      "execution_count": 26,
      "metadata": {
        "collapsed": true,
        "outputExpanded": false,
        "jupyter": {
          "source_hidden": false,
          "outputs_hidden": false
        },
        "nteract": {
          "transient": {
            "deleting": false
          }
        },
        "execution": {
          "iopub.status.busy": "2020-05-07T20:04:31.512Z",
          "iopub.execute_input": "2020-05-07T20:04:31.515Z",
          "iopub.status.idle": "2020-05-07T20:04:31.523Z"
        }
      }
    },
    {
      "cell_type": "code",
      "source": [
        "\n",
        "@assert c == \"3+4\"\n",
        "@assert d == \"7\""
      ],
      "outputs": [],
      "execution_count": 27,
      "metadata": {
        "execution": {
          "iopub.status.busy": "2020-05-07T20:04:32.071Z",
          "iopub.execute_input": "2020-05-07T20:04:32.075Z",
          "iopub.status.idle": "2020-05-07T20:04:32.081Z"
        }
      }
    },
    {
      "cell_type": "code",
      "source": [],
      "outputs": [],
      "execution_count": null,
      "metadata": {
        "collapsed": true,
        "outputExpanded": false,
        "jupyter": {
          "source_hidden": false,
          "outputs_hidden": false
        },
        "nteract": {
          "transient": {
            "deleting": false
          }
        }
      }
    }
  ],
  "metadata": {
    "language_info": {
      "file_extension": ".jl",
      "name": "julia",
      "mimetype": "application/julia",
      "version": "1.4.1"
    },
    "kernelspec": {
      "name": "julia-1.0",
      "display_name": "Julia 1.0.3",
      "language": "julia"
    },
    "nteract": {
      "version": "0.23.1"
    }
  },
  "nbformat": 4,
  "nbformat_minor": 3
}